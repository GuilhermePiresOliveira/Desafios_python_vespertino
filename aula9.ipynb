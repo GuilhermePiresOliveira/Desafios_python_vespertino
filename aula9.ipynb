{
 "cells": [
  {
   "cell_type": "markdown",
   "metadata": {},
   "source": [
    "#### Desafio 01\n",
    "- Crie um programa que realiza a contagem de 1 até 100, usando apenas números ímpares, ao final do processo exiba em tela quantos números ímpares foram emcontrados nesse intervalo, assim como a soma dos mesmos:"
   ]
  },
  {
   "cell_type": "code",
   "execution_count": 25,
   "metadata": {},
   "outputs": [
    {
     "name": "stdout",
     "output_type": "stream",
     "text": [
      "1\n",
      "3\n",
      "5\n",
      "7\n",
      "9\n",
      "11\n",
      "13\n",
      "15\n",
      "17\n",
      "19\n",
      "21\n",
      "23\n",
      "25\n",
      "27\n",
      "29\n",
      "31\n",
      "33\n",
      "35\n",
      "37\n",
      "39\n",
      "41\n",
      "43\n",
      "45\n",
      "47\n",
      "49\n",
      "51\n",
      "53\n",
      "55\n",
      "57\n",
      "59\n",
      "61\n",
      "63\n",
      "65\n",
      "67\n",
      "69\n",
      "71\n",
      "73\n",
      "75\n",
      "77\n",
      "79\n",
      "81\n",
      "83\n",
      "85\n",
      "87\n",
      "89\n",
      "91\n",
      "93\n",
      "95\n",
      "97\n",
      "99\n",
      "Contagem de numeros inteiros: 50\n",
      "Soma de todos os numeros inteiros 2500\n"
     ]
    }
   ],
   "source": [
    "cont = 0\n",
    "soma = 0\n",
    "for i in range(1,101):\n",
    "    if i % 2 !=0:\n",
    "       print(i) \n",
    "       cont += 1\n",
    "       soma = i + soma\n",
    "\n",
    "print(f\"Contagem de numeros inteiros: {cont}\") \n",
    "print(f\"Soma de todos os numeros inteiros {soma}\")      \n"
   ]
  },
  {
   "cell_type": "markdown",
   "metadata": {},
   "source": [
    "#### Desafio 02\n",
    "- Crie uma lista de tarefas basica, onde você pode adicionar quantas tarefas você desejar\n",
    "    - Use While\n",
    "    - Use For\n",
    "    - Use if else\n",
    "    - Use os ('cls')"
   ]
  },
  {
   "cell_type": "code",
   "execution_count": 19,
   "metadata": {},
   "outputs": [
    {
     "name": "stdout",
     "output_type": "stream",
     "text": [
      "Tarefa adicionada\n",
      "1 Lista de tarefas: Limpar\n"
     ]
    }
   ],
   "source": [
    "import os\n",
    "tarefa = []\n",
    "while True:\n",
    "    add = input(\"Deseja adicionar uma  nova tarefa?(S/N)\").upper()\n",
    "    if add == \"S\":\n",
    "        adicional = input(\"Digite a nova tarefa: \")\n",
    "        tarefa.append(adicional)\n",
    "        print(\"Tarefa adicionada\")\n",
    "    else:\n",
    "        break\n",
    "os.system(\"cls\")\n",
    "for i in range (len(tarefa)):\n",
    "    print(f\"{i+1} Lista de tarefas: {tarefa[i]}\")"
   ]
  },
  {
   "cell_type": "markdown",
   "metadata": {},
   "source": [
    "#### Desafio 03\n",
    "- Crie um programa que pede o usuario que o mesmo digite um número qualquer, em seguida retorne se esse número é primo ou não, caso não seja, retorne tambem a quantas vezes esse número é divisível:\n",
    "\n",
    "Número primo é aquele que apenas é divisível por 1 ou por ele mesmo, temos de criar essa condição lógica para poder solucionar esse exercício."
   ]
  },
  {
   "cell_type": "code",
   "execution_count": 21,
   "metadata": {},
   "outputs": [
    {
     "name": "stdout",
     "output_type": "stream",
     "text": [
      "O numero é primo divisivel por  [1, 5]\n"
     ]
    }
   ],
   "source": [
    "num = int(input (\"Digite um numero inteiro para saber se é primo: \"))\n",
    "cont = 0\n",
    "div = []\n",
    "\n",
    "for i in range(num):\n",
    "    if num%(i+1) == 0:\n",
    "        cont += 1\n",
    "        div.append(i+1)\n",
    "    else:\n",
    "        cont\n",
    "if cont == 2:\n",
    "    print (\"O numero é primo divisivel por \",div)\n",
    "else:\n",
    "    print (\"O numero não é primo pois é divisivel por \",div)"
   ]
  }
 ],
 "metadata": {
  "kernelspec": {
   "display_name": "Python 3",
   "language": "python",
   "name": "python3"
  },
  "language_info": {
   "codemirror_mode": {
    "name": "ipython",
    "version": 3
   },
   "file_extension": ".py",
   "mimetype": "text/x-python",
   "name": "python",
   "nbconvert_exporter": "python",
   "pygments_lexer": "ipython3",
   "version": "3.12.4"
  }
 },
 "nbformat": 4,
 "nbformat_minor": 2
}
